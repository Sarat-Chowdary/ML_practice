{
 "cells": [
  {
   "cell_type": "code",
   "execution_count": null,
   "id": "b6baa997",
   "metadata": {},
   "outputs": [],
   "source": [
    "# Name: sarat chowdary\n",
    "# Roll No: S20200010107"
   ]
  },
  {
   "cell_type": "code",
   "execution_count": 248,
   "id": "18d6415c",
   "metadata": {},
   "outputs": [],
   "source": [
    "import random\n",
    "\n",
    "# Details of the implementaion of this code is in the attached ReadMe file\n",
    "\n",
    "# importing random to randomize test train splits"
   ]
  },
  {
   "cell_type": "code",
   "execution_count": 311,
   "id": "19487c24",
   "metadata": {},
   "outputs": [],
   "source": [
    "# initializing the dataset \n",
    "# Reading a csv file without any library imports\n",
    "# next(f) to skip headings\n",
    "\n",
    "iris_values = []\n",
    "\n",
    "f = open('iris.csv') \n",
    "next(f)\n",
    "data = [line.split(',') for line in f.readlines()]\n",
    "for row in data:\n",
    "    iris_values.append([float(row[0]), float(row[1]), float(row[2]), float(row[3]), int(row[4])])\n",
    "#     target.append(int(row[4]))\n",
    "f.close()\n"
   ]
  },
  {
   "cell_type": "code",
   "execution_count": 312,
   "id": "695a8143",
   "metadata": {},
   "outputs": [],
   "source": [
    "# initializing the train and test arrays \n",
    "# splitting the dataset into train and test while keeping their corresponding target labels\n",
    "# using the random library to add randomness to the data initializing\n",
    "train_features_x = []\n",
    "train_targets_y = []\n",
    "test_features_x = []\n",
    "test_targets_y = []\n",
    "\n",
    "random.shuffle(iris_values)\n",
    "len_train_set = 0\n",
    "\n",
    "for i in range(len(iris_values)):\n",
    "    len_train_set += 1\n",
    "    \n",
    "    if len_train_set < 121:\n",
    "        train_features_x.append([iris_values[i][0], iris_values[i][1], iris_values[i][2], iris_values[i][3]])\n",
    "        train_targets_y.append(iris_values[i][4])\n",
    "    else:\n",
    "        test_features_x.append([iris_values[i][0], iris_values[i][1], iris_values[i][2], iris_values[i][3]])\n",
    "        test_targets_y.append(iris_values[i][4])     "
   ]
  },
  {
   "cell_type": "code",
   "execution_count": 324,
   "id": "1557fa07",
   "metadata": {},
   "outputs": [],
   "source": [
    "# The brain of the algorithm\n",
    "# Euclidian distances - sqrt(sum(square(difference between values of features of 2 samples)))\n",
    "\n",
    "def euclidian_distance(x1, x2):\n",
    "    total_result = 0\n",
    "    for i in range(4):\n",
    "        total_result += (x1[i] - x2[i])**2 \n",
    "    euclid_dis = total_result**(1/2)\n",
    "    return euclid_dis"
   ]
  },
  {
   "cell_type": "code",
   "execution_count": 314,
   "id": "ef826891",
   "metadata": {},
   "outputs": [],
   "source": [
    "# The Main code of the algorithm\n",
    "# This function takes a single sample and finds of which class it belongs to corresponding to the given dataset\n",
    "\n",
    "def sample_classifier(sample, k=1):\n",
    "    distances = [euclidian_distance(sample, x) for x in train_features_x]\n",
    "    copy = distances\n",
    "    indices = []\n",
    "    mins = []\n",
    "    for i in range(k):\n",
    "        min = 10000000\n",
    "        for j in range(len(copy)):\n",
    "            if min>copy[j]:\n",
    "                min = copy[j]\n",
    "                key = j\n",
    "        indices.append(key)\n",
    "        copy[key] = 10000000\n",
    "        \n",
    "    y_values = [train_targets_y[indice] for indice in indices]\n",
    "    \n",
    "    class_1 = 0\n",
    "    class_2 = 0\n",
    "    class_3 = 0\n",
    "    \n",
    "    for i in range(len(y_values)):\n",
    "        if y_values[i] == 0:\n",
    "            class_1 += 1\n",
    "        if y_values[i] == 1:\n",
    "            class_2 += 1\n",
    "        if y_values[i] == 2:\n",
    "            class_3 += 1\n",
    "    \n",
    "    if class_1>class_2 and class_1 > class_3:\n",
    "        return 0\n",
    "    if class_2>class_1 and class_2 > class_3:\n",
    "        return 1\n",
    "    if class_3>class_2 and class_3 > class_2:\n",
    "        return 2\n",
    "        \n",
    "    "
   ]
  },
  {
   "cell_type": "code",
   "execution_count": 315,
   "id": "7e9d5fdd",
   "metadata": {},
   "outputs": [
    {
     "name": "stdout",
     "output_type": "stream",
     "text": [
      "2\n"
     ]
    }
   ],
   "source": [
    "# Checking weather the function is working\n",
    "sample_classifier(test_x[12], 1)\n",
    "print(test_y[12])"
   ]
  },
  {
   "cell_type": "code",
   "execution_count": 320,
   "id": "32730db9",
   "metadata": {},
   "outputs": [],
   "source": [
    "# defining the 1nnc and 3nnc functions correspong to the k nearest neighbours algorithm\n",
    "\n",
    "def nearest_neighbour_c1(test):\n",
    "    classes = []\n",
    "    for i in range(len(test)):\n",
    "        classes.append(sample_classifier(test_features_x[i], 1))\n",
    "    return classes\n",
    "\n",
    "def nearest_neighbour_c3(test):\n",
    "    classes = []\n",
    "    for i in range(len(test)):\n",
    "        classes.append(sample_classifier(test_features_x[i], 3))\n",
    "    return classes"
   ]
  },
  {
   "cell_type": "code",
   "execution_count": 321,
   "id": "819f5ba8",
   "metadata": {},
   "outputs": [],
   "source": [
    "# accuracy function to check how well the algorithms are working\n",
    "\n",
    "def accuracy_for_nearest_neighbour_c(x,y,k=1):\n",
    "    sum_iterator = 0\n",
    "    if k == 1:\n",
    "        z = nearest_neighbour_c1(x)\n",
    "    else:\n",
    "        z = nearest_neighbour_c3(x)\n",
    "    for i in range(len(z)):\n",
    "        if z[i] == y[i]:\n",
    "            sum_iterator+=1\n",
    "    \n",
    "    return sum_iterator/len(z)"
   ]
  },
  {
   "cell_type": "code",
   "execution_count": 322,
   "id": "76b75326",
   "metadata": {},
   "outputs": [
    {
     "data": {
      "text/plain": [
       "0.9666666666666667"
      ]
     },
     "execution_count": 322,
     "metadata": {},
     "output_type": "execute_result"
    }
   ],
   "source": [
    "# final output for 1nnc\n",
    "accuracy_for_nearest_neighbour_c(test_features_x, test_targets_y, 1)"
   ]
  },
  {
   "cell_type": "code",
   "execution_count": 323,
   "id": "481ebced",
   "metadata": {},
   "outputs": [
    {
     "data": {
      "text/plain": [
       "0.9333333333333333"
      ]
     },
     "execution_count": 323,
     "metadata": {},
     "output_type": "execute_result"
    }
   ],
   "source": [
    "# final output for 3nnc\n",
    "accuracy_for_nearest_neighbour_c(test_features_x, test_targets_y, 3)"
   ]
  }
 ],
 "metadata": {
  "kernelspec": {
   "display_name": "Python 3 (ipykernel)",
   "language": "python",
   "name": "python3"
  },
  "language_info": {
   "codemirror_mode": {
    "name": "ipython",
    "version": 3
   },
   "file_extension": ".py",
   "mimetype": "text/x-python",
   "name": "python",
   "nbconvert_exporter": "python",
   "pygments_lexer": "ipython3",
   "version": "3.9.0"
  }
 },
 "nbformat": 4,
 "nbformat_minor": 5
}
