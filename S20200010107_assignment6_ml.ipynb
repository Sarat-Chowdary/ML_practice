{
 "cells": [
  {
   "cell_type": "code",
   "execution_count": null,
   "id": "2034d79c",
   "metadata": {},
   "outputs": [],
   "source": [
    "# Name == Sarat\n",
    "# Roll No == S20200010107\n",
    "# Assignent == 6"
   ]
  },
  {
   "cell_type": "code",
   "execution_count": 1,
   "id": "af5e0914",
   "metadata": {},
   "outputs": [],
   "source": [
    "import random\n",
    "import numpy as np\n",
    "import matplotlib.pyplot as plt\n",
    "import sklearn "
   ]
  },
  {
   "cell_type": "code",
   "execution_count": 2,
   "id": "cf79057e",
   "metadata": {},
   "outputs": [],
   "source": [
    "def generate_normal(num_samples, mean1, mean2, cov):\n",
    "    a = np.random.multivariate_normal(mean1, cov, int(num_samples/2))\n",
    "    b = np.random.multivariate_normal(mean2, cov, int(num_samples/2))\n",
    "    z1 = np.zeros((int(num_samples/2),1))\n",
    "    z2 = np.ones((int(num_samples/2),1))\n",
    "\n",
    "#     z = np.vstack((a[:,0],a[:,1],z1.T))\n",
    "    d = np.concatenate((np.vstack((a[:,0],a[:,1],z1.T)).T, np.vstack((b[:,0],b[:,1],z2.T)).T))\n",
    "    \n",
    "    d = np.array(d)\n",
    "    np.random.shuffle(d)\n",
    "    \n",
    "    return d"
   ]
  },
  {
   "cell_type": "code",
   "execution_count": 3,
   "id": "792aad9f",
   "metadata": {},
   "outputs": [],
   "source": [
    "mean1 = [0,0]\n",
    "mean2 = [0,2]\n",
    "cov = [[1,0],[0,1]]"
   ]
  },
  {
   "cell_type": "code",
   "execution_count": 21,
   "id": "9f052a66",
   "metadata": {},
   "outputs": [],
   "source": [
    "dataset = generate_normal(5500,mean1, mean2, cov)"
   ]
  },
  {
   "cell_type": "code",
   "execution_count": 22,
   "id": "6f6dc031",
   "metadata": {},
   "outputs": [
    {
     "data": {
      "image/png": "[encoded data removed]",
      "text/plain": [
       "<Figure size 432x288 with 1 Axes>"
      ]
     },
     "metadata": {
      "needs_background": "light"
     },
     "output_type": "display_data"
    }
   ],
   "source": [
    "count, bins, ignored = plt.hist(dataset[:,0], 50, density=True)\n",
    "plt.show()"
   ]
  },
  {
   "cell_type": "code",
   "execution_count": 23,
   "id": "b4ceb81e",
   "metadata": {},
   "outputs": [],
   "source": [
    "d1 = dataset[0:100,:]\n",
    "d2 = dataset[100:300]\n",
    "d3 = dataset[300:600]\n",
    "d4 = dataset[600:1000]\n",
    "d5 = dataset[1000:1500]\n",
    "d6 = dataset[1500:2100]\n",
    "d7 = dataset[2100:2800]\n",
    "d8 = dataset[2800:3600]\n",
    "d9 = dataset[3600:4500]\n",
    "d10 = dataset[4500:5500]"
   ]
  },
  {
   "cell_type": "code",
   "execution_count": 24,
   "id": "013e62b1",
   "metadata": {},
   "outputs": [],
   "source": [
    "test = generate_normal(100, mean1,mean2, cov)"
   ]
  },
  {
   "cell_type": "code",
   "execution_count": 25,
   "id": "13ab08b7",
   "metadata": {},
   "outputs": [],
   "source": [
    "# print(train[:,0:2].reshape(-1,1).shape)\n",
    "from sklearn.neighbors import KNeighborsClassifier"
   ]
  },
  {
   "cell_type": "code",
   "execution_count": 26,
   "id": "ee28f9db",
   "metadata": {},
   "outputs": [
    {
     "data": {
      "text/plain": [
       "KNeighborsClassifier(n_neighbors=1)"
      ]
     },
     "execution_count": 26,
     "metadata": {},
     "output_type": "execute_result"
    }
   ],
   "source": [
    "neigh1 = KNeighborsClassifier(n_neighbors=1)\n",
    "neigh1.fit(d1[:,0:2].reshape(-1, 2), d1[:,2])\n",
    "\n",
    "neigh2 = KNeighborsClassifier(n_neighbors=1)\n",
    "neigh2.fit(d2[:,0:2].reshape(-1, 2), d2[:,2])\n",
    "\n",
    "neigh3 = KNeighborsClassifier(n_neighbors=1)\n",
    "neigh3.fit(d3[:,0:2].reshape(-1, 2), d3[:,2])\n",
    "\n",
    "neigh4 = KNeighborsClassifier(n_neighbors=1)\n",
    "neigh4.fit(d4[:,0:2].reshape(-1, 2), d4[:,2])\n",
    "\n",
    "neigh5 = KNeighborsClassifier(n_neighbors=1)\n",
    "neigh5.fit(d5[:,0:2].reshape(-1, 2), d5[:,2])\n",
    "\n",
    "neigh6 = KNeighborsClassifier(n_neighbors=1)\n",
    "neigh6.fit(d6[:,0:2].reshape(-1, 2), d6[:,2])\n",
    "\n",
    "neigh7 = KNeighborsClassifier(n_neighbors=1)\n",
    "neigh7.fit(d7[:,0:2].reshape(-1, 2), d7[:,2])\n",
    "\n",
    "neigh8 = KNeighborsClassifier(n_neighbors=1)\n",
    "neigh8.fit(d8[:,0:2].reshape(-1, 2), d8[:,2])\n",
    "\n",
    "neigh9 = KNeighborsClassifier(n_neighbors=1)\n",
    "neigh9.fit(d9[:,0:2].reshape(-1, 2), d9[:,2])\n",
    "\n",
    "neigh10 = KNeighborsClassifier(n_neighbors=1)\n",
    "neigh10.fit(d10[:,0:2].reshape(-1, 2), d10[:,2])"
   ]
  },
  {
   "cell_type": "code",
   "execution_count": 27,
   "id": "7b842b8c",
   "metadata": {},
   "outputs": [],
   "source": [
    "def predict_nnc(sample, num):\n",
    "    if num ==1:\n",
    "        a = neigh1.predict(sample)\n",
    "    if num ==2:\n",
    "        a = neigh2.predict(sample)\n",
    "    if num ==3:\n",
    "        a = neigh3.predict(sample)\n",
    "    if num ==4:\n",
    "        a = neigh4.predict(sample)\n",
    "    if num ==5:\n",
    "        a = neigh5.predict(sample)\n",
    "    if num ==6:\n",
    "        a = neigh6.predict(sample)\n",
    "    if num ==7:\n",
    "        a = neigh7.predict(sample)\n",
    "    if num ==8:\n",
    "        a = neigh8.predict(sample)\n",
    "    if num ==9:\n",
    "        a = neigh9.predict(sample)\n",
    "    if num ==10:\n",
    "        a = neigh10.predict(sample)\n",
    "    return a"
   ]
  },
  {
   "cell_type": "code",
   "execution_count": 34,
   "id": "aed26de0",
   "metadata": {},
   "outputs": [],
   "source": [
    "a = neigh1.predict(test[:,0:2].reshape(-1,2))"
   ]
  },
  {
   "cell_type": "code",
   "execution_count": 35,
   "id": "5d6355a2",
   "metadata": {},
   "outputs": [],
   "source": [
    "# print(test)"
   ]
  },
  {
   "cell_type": "code",
   "execution_count": 36,
   "id": "1da53648",
   "metadata": {},
   "outputs": [
    {
     "name": "stdout",
     "output_type": "stream",
     "text": [
      "75\n",
      "accuracy = 0.75\n"
     ]
    }
   ],
   "source": [
    "count=0\n",
    "for i in range(100):\n",
    "    if a[i]==test[i,2]:\n",
    "        count+=1\n",
    "print(count)\n",
    "print(f'accuracy = {count/100}')"
   ]
  },
  {
   "cell_type": "code",
   "execution_count": 39,
   "id": "b94f457c",
   "metadata": {},
   "outputs": [],
   "source": [
    "def density_using_gausian(x):\n",
    "    mean_1 = np.array([0,0])\n",
    "    mean_2 = np.array([0,2])\n",
    "    \n",
    "    exp_1 = np.sum(np.square(x-mean_1)*(-0.5))\n",
    "    exp_2 = np.sum(np.square(x-mean_2)*(-0.5))\n",
    "    temp_1 = np.exp(exp_1)/(2*np.pi)\n",
    "    temp_2 = np.exp(exp_2)/(2*np.pi)\n",
    "    return [temp_1, temp_2]"
   ]
  },
  {
   "cell_type": "code",
   "execution_count": 40,
   "id": "aad7f4a2",
   "metadata": {},
   "outputs": [],
   "source": [
    "ystar = []\n",
    "test_copy = test.copy() \n",
    "\n",
    "for i in range(len(test_copy)):\n",
    "    probabilities = density_using_gausian(test_copy[i][2])\n",
    "    if(probabilities[0]>probabilities[1]):\n",
    "        ystar.append(0)\n",
    "    else:\n",
    "        ystar.append(1)"
   ]
  },
  {
   "cell_type": "code",
   "execution_count": 41,
   "id": "bda88713",
   "metadata": {},
   "outputs": [],
   "source": [
    "def bias_calculator(a, ystar):\n",
    "    count = 0\n",
    "    for i in range(len(a)):\n",
    "        if(a[i]!=ystar[i]):\n",
    "            count+=1\n",
    "    return count/len(a)"
   ]
  },
  {
   "cell_type": "code",
   "execution_count": 44,
   "id": "3bd290d6",
   "metadata": {},
   "outputs": [
    {
     "name": "stdout",
     "output_type": "stream",
     "text": [
      "[0.25, 0.26, 0.25, 0.21, 0.19, 0.22, 0.24, 0.24, 0.19, 0.2]\n"
     ]
    }
   ],
   "source": [
    "bias = []\n",
    "\n",
    "for i in range(10):\n",
    "    a = predict_nnc(test[:,0:2], i+1)\n",
    "    bias.append(bias_calculator(a, ystar))"
   ]
  },
  {
   "cell_type": "code",
   "execution_count": 19,
   "id": "07d922d9",
   "metadata": {},
   "outputs": [],
   "source": [
    "def variance_calculator(ym):\n",
    "    var = 0\n",
    "    for i in range(len(ym)):\n",
    "        count = 0\n",
    "        for j in range(10):\n",
    "            if(ym[i]!=predict_nnc(test[i,0:2].reshape(-1,2), j+1)):\n",
    "                count+=1\n",
    "        count = count/10\n",
    "        var +=count\n",
    "    return var/len(ym)"
   ]
  },
  {
   "cell_type": "code",
   "execution_count": 50,
   "id": "d00cc7c2",
   "metadata": {},
   "outputs": [
    {
     "data": {
      "image/png": "[encoded data removed]",
      "text/plain": [
       "<Figure size 432x288 with 1 Axes>"
      ]
     },
     "metadata": {},
     "output_type": "display_data"
    }
   ],
   "source": [
    "import matplotlib.pyplot as plt \n",
    "%matplotlib inline \n",
    "\n",
    "plt.figure(facecolor='yellow')\n",
    "ax = plt.axes()\n",
    "ax.set_facecolor(\"violet\")\n",
    "plt.plot(np.arange(0,10,1)+1, bias)\n",
    "plt.xlabel('N/100 values') # X-Label\n",
    "plt.ylabel('Bias') # Y-Label\n",
    "# show() is used for displaying the plot\n",
    "plt.show()"
   ]
  },
  {
   "cell_type": "code",
   "execution_count": 61,
   "id": "f989b82b",
   "metadata": {},
   "outputs": [],
   "source": [
    "from sklearn.metrics import mean_squared_error \n",
    "var = []\n",
    "for i in range(10):\n",
    "    mse=mean_squared_error(test[:,2],predict_nnc(test[:,0:2],i+1))\n",
    "    var.append(mse-(np.square(bias[i])))\n",
    "\n",
    "# print(var)"
   ]
  },
  {
   "cell_type": "code",
   "execution_count": 62,
   "id": "2d79468d",
   "metadata": {},
   "outputs": [
    {
     "data": {
      "image/png": "[encoded data removed]",
      "text/plain": [
       "<Figure size 432x288 with 1 Axes>"
      ]
     },
     "metadata": {},
     "output_type": "display_data"
    }
   ],
   "source": [
    "plt.figure(facecolor='yellow')\n",
    "ax = plt.axes()\n",
    "ax.set_facecolor(\"violet\")\n",
    "plt.plot(np.arange(0,10,1)+1, var)\n",
    "plt.xlabel('N/100 values') # X-Label\n",
    "plt.ylabel('Variance') # Y-Label\n",
    "# show() is used for displaying the plot\n",
    "plt.show()"
   ]
  },
  {
   "cell_type": "code",
   "execution_count": 63,
   "id": "378eda51",
   "metadata": {},
   "outputs": [
    {
     "name": "stdout",
     "output_type": "stream",
     "text": [
      "[0.1875, 0.19240000000000002, 0.1875, 0.1659, 0.1539, 0.1716, 0.1824, 0.1824, 0.1539, 0.16]\n"
     ]
    }
   ],
   "source": [
    "print(var)"
   ]
  },
  {
   "cell_type": "code",
   "execution_count": 64,
   "id": "30582efe",
   "metadata": {},
   "outputs": [
    {
     "name": "stdout",
     "output_type": "stream",
     "text": [
      "[0.25, 0.26, 0.25, 0.21, 0.19, 0.22, 0.24, 0.24, 0.19, 0.2]\n"
     ]
    }
   ],
   "source": [
    "print(bias)"
   ]
  },
  {
   "cell_type": "code",
   "execution_count": 66,
   "id": "26675539",
   "metadata": {},
   "outputs": [
    {
     "name": "stdout",
     "output_type": "stream",
     "text": [
      "[0.0625 0.0676 0.0625 0.0441 0.0361 0.0484 0.0576 0.0576 0.0361 0.04  ]\n"
     ]
    }
   ],
   "source": [
    "print(np.subtract(bias, var))"
   ]
  },
  {
   "cell_type": "code",
   "execution_count": null,
   "id": "9a745bc2",
   "metadata": {},
   "outputs": [],
   "source": []
  }
 ],
 "metadata": {
  "kernelspec": {
   "display_name": "Python 3 (ipykernel)",
   "language": "python",
   "name": "python3"
  },
  "language_info": {
   "codemirror_mode": {
    "name": "ipython",
    "version": 3
   },
   "file_extension": ".py",
   "mimetype": "text/x-python",
   "name": "python",
   "nbconvert_exporter": "python",
   "pygments_lexer": "ipython3",
   "version": "3.9.0"
  }
 },
 "nbformat": 4,
 "nbformat_minor": 5
}
