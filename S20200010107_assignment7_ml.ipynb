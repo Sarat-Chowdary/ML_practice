{
 "cells": [
  {
   "cell_type": "code",
   "execution_count": 1,
   "id": "65637f91",
   "metadata": {},
   "outputs": [],
   "source": [
    "# Name: Sarat\n",
    "# Roll No: S20200010107\n",
    "# Section: 1\n",
    "# Assignment: 7"
   ]
  },
  {
   "cell_type": "code",
   "execution_count": 2,
   "id": "fd4782d6",
   "metadata": {},
   "outputs": [],
   "source": [
    "import numpy as np\n",
    "import pandas as pd\n",
    "import matplotlib.pyplot as plt\n",
    "import random"
   ]
  },
  {
   "cell_type": "code",
   "execution_count": 32,
   "id": "22443c0e",
   "metadata": {},
   "outputs": [
    {
     "data": {
      "text/plain": [
       "array([32])"
      ]
     },
     "execution_count": 32,
     "metadata": {},
     "output_type": "execute_result"
    }
   ],
   "source": [
    "a = np.array([1,2,3])\n",
    "b = np.array([[4],[5],[6]])\n",
    "a.dot(b)"
   ]
  },
  {
   "cell_type": "code",
   "execution_count": 4,
   "id": "b0bad482",
   "metadata": {},
   "outputs": [
    {
     "data": {
      "text/html": [
       "<div>\n",
       "<style scoped>\n",
       "    .dataframe tbody tr th:only-of-type {\n",
       "        vertical-align: middle;\n",
       "    }\n",
       "\n",
       "    .dataframe tbody tr th {\n",
       "        vertical-align: top;\n",
       "    }\n",
       "\n",
       "    .dataframe thead th {\n",
       "        text-align: right;\n",
       "    }\n",
       "</style>\n",
       "<table border=\"1\" class=\"dataframe\">\n",
       "  <thead>\n",
       "    <tr style=\"text-align: right;\">\n",
       "      <th></th>\n",
       "      <th>Crime Rate</th>\n",
       "      <th>Residential Zone Area</th>\n",
       "      <th>Industrial Zone Area</th>\n",
       "      <th>River Side</th>\n",
       "      <th>Nitric Oxide Emmisions</th>\n",
       "      <th>Avg. Rooms/Dwelling</th>\n",
       "      <th>AGE</th>\n",
       "      <th>Distance to Employement Centers</th>\n",
       "      <th>accessibility to highways</th>\n",
       "      <th>Tax rate/10000 RS</th>\n",
       "      <th>Student Teacher RATIO in schools</th>\n",
       "      <th>Median Value of Houses in Lakhs</th>\n",
       "    </tr>\n",
       "  </thead>\n",
       "  <tbody>\n",
       "    <tr>\n",
       "      <th>0</th>\n",
       "      <td>0.00632</td>\n",
       "      <td>18.0</td>\n",
       "      <td>2.31</td>\n",
       "      <td>0</td>\n",
       "      <td>0.538</td>\n",
       "      <td>6.575</td>\n",
       "      <td>65.2</td>\n",
       "      <td>4.0900</td>\n",
       "      <td>1</td>\n",
       "      <td>296</td>\n",
       "      <td>15.3</td>\n",
       "      <td>24.0</td>\n",
       "    </tr>\n",
       "    <tr>\n",
       "      <th>1</th>\n",
       "      <td>0.02731</td>\n",
       "      <td>0.0</td>\n",
       "      <td>7.07</td>\n",
       "      <td>0</td>\n",
       "      <td>0.469</td>\n",
       "      <td>6.421</td>\n",
       "      <td>78.9</td>\n",
       "      <td>4.9671</td>\n",
       "      <td>2</td>\n",
       "      <td>242</td>\n",
       "      <td>17.8</td>\n",
       "      <td>21.6</td>\n",
       "    </tr>\n",
       "    <tr>\n",
       "      <th>2</th>\n",
       "      <td>0.02729</td>\n",
       "      <td>0.0</td>\n",
       "      <td>7.07</td>\n",
       "      <td>0</td>\n",
       "      <td>0.469</td>\n",
       "      <td>7.185</td>\n",
       "      <td>61.1</td>\n",
       "      <td>4.9671</td>\n",
       "      <td>2</td>\n",
       "      <td>242</td>\n",
       "      <td>17.8</td>\n",
       "      <td>34.7</td>\n",
       "    </tr>\n",
       "    <tr>\n",
       "      <th>3</th>\n",
       "      <td>0.03237</td>\n",
       "      <td>0.0</td>\n",
       "      <td>2.18</td>\n",
       "      <td>0</td>\n",
       "      <td>0.458</td>\n",
       "      <td>6.998</td>\n",
       "      <td>45.8</td>\n",
       "      <td>6.0622</td>\n",
       "      <td>3</td>\n",
       "      <td>222</td>\n",
       "      <td>18.7</td>\n",
       "      <td>33.4</td>\n",
       "    </tr>\n",
       "    <tr>\n",
       "      <th>4</th>\n",
       "      <td>0.06905</td>\n",
       "      <td>0.0</td>\n",
       "      <td>2.18</td>\n",
       "      <td>0</td>\n",
       "      <td>0.458</td>\n",
       "      <td>7.147</td>\n",
       "      <td>54.2</td>\n",
       "      <td>6.0622</td>\n",
       "      <td>3</td>\n",
       "      <td>222</td>\n",
       "      <td>18.7</td>\n",
       "      <td>36.2</td>\n",
       "    </tr>\n",
       "  </tbody>\n",
       "</table>\n",
       "</div>"
      ],
      "text/plain": [
       "   Crime Rate  Residential Zone Area  Industrial Zone Area  River Side  \\\n",
       "0     0.00632                   18.0                  2.31           0   \n",
       "1     0.02731                    0.0                  7.07           0   \n",
       "2     0.02729                    0.0                  7.07           0   \n",
       "3     0.03237                    0.0                  2.18           0   \n",
       "4     0.06905                    0.0                  2.18           0   \n",
       "\n",
       "   Nitric Oxide Emmisions  Avg. Rooms/Dwelling   AGE  \\\n",
       "0                   0.538                6.575  65.2   \n",
       "1                   0.469                6.421  78.9   \n",
       "2                   0.469                7.185  61.1   \n",
       "3                   0.458                6.998  45.8   \n",
       "4                   0.458                7.147  54.2   \n",
       "\n",
       "   Distance to Employement Centers  accessibility to highways  \\\n",
       "0                           4.0900                          1   \n",
       "1                           4.9671                          2   \n",
       "2                           4.9671                          2   \n",
       "3                           6.0622                          3   \n",
       "4                           6.0622                          3   \n",
       "\n",
       "   Tax rate/10000 RS  Student Teacher RATIO in schools  \\\n",
       "0                296                              15.3   \n",
       "1                242                              17.8   \n",
       "2                242                              17.8   \n",
       "3                222                              18.7   \n",
       "4                222                              18.7   \n",
       "\n",
       "   Median Value of Houses in Lakhs  \n",
       "0                             24.0  \n",
       "1                             21.6  \n",
       "2                             34.7  \n",
       "3                             33.4  \n",
       "4                             36.2  "
      ]
     },
     "execution_count": 4,
     "metadata": {},
     "output_type": "execute_result"
    }
   ],
   "source": [
    "df = pd.read_csv('House Price.csv')\n",
    "\n",
    "df.head()"
   ]
  },
  {
   "cell_type": "code",
   "execution_count": 5,
   "id": "ee98bc99",
   "metadata": {},
   "outputs": [
    {
     "data": {
      "text/plain": [
       "506"
      ]
     },
     "execution_count": 5,
     "metadata": {},
     "output_type": "execute_result"
    }
   ],
   "source": [
    "len(df)"
   ]
  },
  {
   "cell_type": "code",
   "execution_count": 6,
   "id": "4656a20c",
   "metadata": {},
   "outputs": [],
   "source": [
    "# df = df.sample(frac=1)"
   ]
  },
  {
   "cell_type": "code",
   "execution_count": 7,
   "id": "4fe6f926",
   "metadata": {},
   "outputs": [],
   "source": [
    "# df.head(15)"
   ]
  },
  {
   "cell_type": "code",
   "execution_count": 8,
   "id": "43734d5a",
   "metadata": {},
   "outputs": [],
   "source": [
    "train = df[0:int(len(df)*0.7)]\n",
    "test = df[int(len(df)*0.7):]"
   ]
  },
  {
   "cell_type": "code",
   "execution_count": 9,
   "id": "03daaaa7",
   "metadata": {},
   "outputs": [
    {
     "data": {
      "text/plain": [
       "354"
      ]
     },
     "execution_count": 9,
     "metadata": {},
     "output_type": "execute_result"
    }
   ],
   "source": [
    "len(train)"
   ]
  },
  {
   "cell_type": "code",
   "execution_count": 10,
   "id": "8b0a46a0",
   "metadata": {},
   "outputs": [],
   "source": [
    "def grad_des(x, y, alpha, epochs):\n",
    "    \n",
    "    m = np.shape(x)[0] # samples\n",
    "    n = np.shape(x)[1] # features\n",
    "    \n",
    "    x = np.concatenate((np.ones((m,1)),x), axis=1)\n",
    "#     w = np.random.randn(n+1,)\n",
    "    w = 2*np.random.rand(n+1,)-1\n",
    "    sst = 0\n",
    "    loss_history = []\n",
    "    \n",
    "    for current_iteration in range(epochs):\n",
    "        y_estimated = w.dot(x.T)\n",
    "        error = y_estimated - y\n",
    "        cost = np.sum(error ** 2)\n",
    "        gradient = (1 / m) * x.T.dot(error)\n",
    "        w = w - alpha * gradient\n",
    "        sst = np.sum((y_estimated - y.mean())**2)\n",
    "        loss_history.append(cost)\n",
    "#     print(sst, cost)\n",
    "    return loss_history, w, sst"
   ]
  },
  {
   "cell_type": "code",
   "execution_count": 25,
   "id": "26ebbe2b",
   "metadata": {},
   "outputs": [
    {
     "name": "stdout",
     "output_type": "stream",
     "text": [
      "[-0.2229441   0.65714461 -0.56487969  0.10006411 -0.28505247  0.34588764\n",
      " -0.08579907  0.86960226 -0.71331691 -0.78814162 -0.05652422  0.1780907 ]\n"
     ]
    },
    {
     "data": {
      "image/png": "[encoded data removed]",
      "text/plain": [
       "<Figure size 432x288 with 1 Axes>"
      ]
     },
     "metadata": {},
     "output_type": "display_data"
    }
   ],
   "source": [
    "train = np.array(train)\n",
    "test = np.array(test)\n",
    "loss_history, w, sst = grad_des(train[:,:-1], train[:,-1], 0.000001, 100)\n",
    "print(w)\n",
    "    \n",
    "\n",
    "\n",
    "plt.figure(facecolor='grey')\n",
    "ax = plt.axes()\n",
    "ax.set_facecolor(\"skyblue\")\n",
    "plt.plot(np.arange(len(loss_history)), loss_history)\n",
    "plt.xlabel('Epochs') # X-Label\n",
    "plt.ylabel('Loss') # Y-Label\n",
    "# show() is used for displaying the plot\n",
    "plt.show()"
   ]
  },
  {
   "cell_type": "code",
   "execution_count": 12,
   "id": "a92b7998",
   "metadata": {},
   "outputs": [],
   "source": [
    "sse = loss_history[-1]\n",
    "# print(sst, sse)\n",
    "mse = loss_history[-1]/len(train)\n",
    "r2 = (sse - sst)/sse"
   ]
  },
  {
   "cell_type": "code",
   "execution_count": 13,
   "id": "119c83af",
   "metadata": {},
   "outputs": [
    {
     "name": "stdout",
     "output_type": "stream",
     "text": [
      "SSE for the training set is: 133901.03735534567\n",
      "MSE for the training set is: 378.25151795295386\n",
      "R square value for training set is: 0.3329812169750057\n"
     ]
    }
   ],
   "source": [
    "print(f\"SSE for the training set is: {sse}\")\n",
    "print(f\"MSE for the training set is: {mse}\")\n",
    "print(f\"R square value for training set is: {r2}\")"
   ]
  },
  {
   "cell_type": "code",
   "execution_count": 26,
   "id": "62f871c8",
   "metadata": {},
   "outputs": [],
   "source": [
    "def predict(x,w):\n",
    "    \n",
    "    m = np.shape(x)[0]\n",
    "    \n",
    "    x = np.concatenate((np.ones((m,1)),x), axis=1)\n",
    "    \n",
    "    return w.dot(x.T)"
   ]
  },
  {
   "cell_type": "code",
   "execution_count": 27,
   "id": "eb890a4c",
   "metadata": {},
   "outputs": [],
   "source": [
    "y_predict = predict(test[:,:-1],w)\n",
    "\n",
    "y = test[:,-1]"
   ]
  },
  {
   "cell_type": "code",
   "execution_count": 28,
   "id": "47990f4c",
   "metadata": {},
   "outputs": [],
   "source": [
    "sst = np.sum((y_predict - y.mean())**2)\n",
    "sse = np.sum((y_predict - y)**2)\n",
    "mse = sse/len(test)\n",
    "r2 = (sse - sst)/sse"
   ]
  },
  {
   "cell_type": "code",
   "execution_count": 29,
   "id": "ccb28a4d",
   "metadata": {},
   "outputs": [
    {
     "name": "stdout",
     "output_type": "stream",
     "text": [
      "SSE for the test set is: 116724.68777159462\n",
      "MSE for the test set is: 767.9255774447014\n",
      "R square value for test set is: 0.19178476035129888\n"
     ]
    }
   ],
   "source": [
    "print(f\"SSE for the test set is: {sse}\")\n",
    "print(f\"MSE for the test set is: {mse}\")\n",
    "print(f\"R square value for test set is: {r2}\")"
   ]
  },
  {
   "cell_type": "code",
   "execution_count": 30,
   "id": "d287109e",
   "metadata": {},
   "outputs": [
    {
     "data": {
      "text/plain": [
       "(354, 11)"
      ]
     },
     "execution_count": 30,
     "metadata": {},
     "output_type": "execute_result"
    }
   ],
   "source": [
    "train[:,:-1].shape"
   ]
  },
  {
   "cell_type": "code",
   "execution_count": null,
   "id": "47defe06",
   "metadata": {},
   "outputs": [],
   "source": []
  }
 ],
 "metadata": {
  "kernelspec": {
   "display_name": "Python 3 (ipykernel)",
   "language": "python",
   "name": "python3"
  },
  "language_info": {
   "codemirror_mode": {
    "name": "ipython",
    "version": 3
   },
   "file_extension": ".py",
   "mimetype": "text/x-python",
   "name": "python",
   "nbconvert_exporter": "python",
   "pygments_lexer": "ipython3",
   "version": "3.9.0"
  }
 },
 "nbformat": 4,
 "nbformat_minor": 5
}
