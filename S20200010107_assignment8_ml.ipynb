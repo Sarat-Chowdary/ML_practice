{
 "cells": [
  {
   "cell_type": "code",
   "execution_count": 1,
   "id": "459151b3",
   "metadata": {},
   "outputs": [],
   "source": [
    "# Name: sarat\n",
    "# Roll No: S20200010107\n",
    "# Assignment: 8"
   ]
  },
  {
   "cell_type": "code",
   "execution_count": 2,
   "id": "a133dd61",
   "metadata": {},
   "outputs": [],
   "source": [
    "import numpy as np\n",
    "import random\n",
    "import matplotlib.pyplot as plt"
   ]
  },
  {
   "cell_type": "code",
   "execution_count": 3,
   "id": "1692c6e9",
   "metadata": {},
   "outputs": [],
   "source": [
    "def dataset_generator(n):\n",
    "    \n",
    "    x1 = np.random.uniform(1,10,n)\n",
    "    x2 = np.random.uniform(2,5,n)\n",
    "    e = np.random.normal(0,0.25**0.5,n)\n",
    "    \n",
    "    target = 4 + x1 + 3*x2 + e\n",
    "     \n",
    "    return np.vstack((x1,x2,target)).T"
   ]
  },
  {
   "cell_type": "code",
   "execution_count": 4,
   "id": "520da831",
   "metadata": {},
   "outputs": [],
   "source": [
    "data11 = dataset_generator(100)\n",
    "data21 = dataset_generator(200)\n",
    "data31 = dataset_generator(300)\n",
    "data41 = dataset_generator(400)\n",
    "data51 = dataset_generator(500)\n",
    "data61 = dataset_generator(600)\n",
    "data71 = dataset_generator(700)\n",
    "data81 = dataset_generator(800)\n",
    "data91 = dataset_generator(900)\n",
    "data101 = dataset_generator(1000)\n",
    "data12 = dataset_generator(100)\n",
    "data22 = dataset_generator(200)\n",
    "data32 = dataset_generator(300)\n",
    "data42 = dataset_generator(400)\n",
    "data52 = dataset_generator(500)\n",
    "data62 = dataset_generator(600)\n",
    "data72 = dataset_generator(700)\n",
    "data82 = dataset_generator(800)\n",
    "data92 = dataset_generator(900)\n",
    "data102 = dataset_generator(1000)\n",
    "data13 = dataset_generator(100)\n",
    "data23 = dataset_generator(200)\n",
    "data33 = dataset_generator(300)\n",
    "data43 = dataset_generator(400)\n",
    "data53 = dataset_generator(500)\n",
    "data63 = dataset_generator(600)\n",
    "data73 = dataset_generator(700)\n",
    "data83 = dataset_generator(800)\n",
    "data93 = dataset_generator(900)\n",
    "data103 = dataset_generator(1000)\n",
    "data14 = dataset_generator(100)\n",
    "data24 = dataset_generator(200)\n",
    "data34 = dataset_generator(300)\n",
    "data44 = dataset_generator(400)\n",
    "data54 = dataset_generator(500)\n",
    "data64 = dataset_generator(600)\n",
    "data74 = dataset_generator(700)\n",
    "data84 = dataset_generator(800)\n",
    "data94 = dataset_generator(900)\n",
    "data104 = dataset_generator(1000)\n",
    "data15 = dataset_generator(100)\n",
    "data25 = dataset_generator(200)\n",
    "data35 = dataset_generator(300)\n",
    "data45 = dataset_generator(400)\n",
    "data55 = dataset_generator(500)\n",
    "data65 = dataset_generator(600)\n",
    "data75 = dataset_generator(700)\n",
    "data85 = dataset_generator(800)\n",
    "data95 = dataset_generator(900)\n",
    "data105 = dataset_generator(1000)\n",
    "data16 = dataset_generator(100)\n",
    "data26 = dataset_generator(200)\n",
    "data36 = dataset_generator(300)\n",
    "data46 = dataset_generator(400)\n",
    "data56 = dataset_generator(500)\n",
    "data66 = dataset_generator(600)\n",
    "data76 = dataset_generator(700)\n",
    "data86 = dataset_generator(800)\n",
    "data96 = dataset_generator(900)\n",
    "data106 = dataset_generator(1000)\n",
    "data17 = dataset_generator(100)\n",
    "data27 = dataset_generator(200)\n",
    "data37 = dataset_generator(300)\n",
    "data47 = dataset_generator(400)\n",
    "data57 = dataset_generator(500)\n",
    "data67 = dataset_generator(600)\n",
    "data77 = dataset_generator(700)\n",
    "data87 = dataset_generator(800)\n",
    "data97 = dataset_generator(900)\n",
    "data107 = dataset_generator(1000)\n",
    "data18 = dataset_generator(100)\n",
    "data28 = dataset_generator(200)\n",
    "data38 = dataset_generator(300)\n",
    "data48 = dataset_generator(400)\n",
    "data58 = dataset_generator(500)\n",
    "data68 = dataset_generator(600)\n",
    "data78 = dataset_generator(700)\n",
    "data88 = dataset_generator(800)\n",
    "data98 = dataset_generator(900)\n",
    "data108 = dataset_generator(1000)\n",
    "data19 = dataset_generator(100)\n",
    "data29 = dataset_generator(200)\n",
    "data39 = dataset_generator(300)\n",
    "data49 = dataset_generator(400)\n",
    "data59 = dataset_generator(500)\n",
    "data69 = dataset_generator(600)\n",
    "data79 = dataset_generator(700)\n",
    "data89 = dataset_generator(800)\n",
    "data99 = dataset_generator(900)\n",
    "data109 = dataset_generator(1000)\n",
    "data110 = dataset_generator(100)\n",
    "data210 = dataset_generator(200)\n",
    "data310 = dataset_generator(300)\n",
    "data410 = dataset_generator(400)\n",
    "data510 = dataset_generator(500)\n",
    "data610 = dataset_generator(600)\n",
    "data710 = dataset_generator(700)\n",
    "data810 = dataset_generator(800)\n",
    "data910 = dataset_generator(900)\n",
    "data1010 = dataset_generator(1000)"
   ]
  },
  {
   "cell_type": "code",
   "execution_count": 5,
   "id": "97811550",
   "metadata": {},
   "outputs": [],
   "source": [
    "def grad_des(x, y, alpha, epochs):\n",
    "    \n",
    "    m = np.shape(x)[0] # samples\n",
    "    n = np.shape(x)[1] # features\n",
    "    \n",
    "    x = np.concatenate((np.ones((m,1)),x), axis=1)\n",
    "    w = 2*np.random.rand(n+1,)-1\n",
    "\n",
    "    loss_history = []\n",
    "    \n",
    "    for current_iteration in range(epochs):\n",
    "        y_estimated = x.dot(w)\n",
    "        error = y_estimated - y\n",
    "        cost = np.sum(error ** 2)\n",
    "        gradient = (1 / m) * x.T.dot(error)\n",
    "        w = w - alpha * gradient\n",
    "        loss_history.append(cost)\n",
    "    return loss_history, w"
   ]
  },
  {
   "cell_type": "code",
   "execution_count": 6,
   "id": "83b0845e",
   "metadata": {},
   "outputs": [],
   "source": [
    "learning_rate = 0.001\n",
    "epochs = 1000"
   ]
  },
  {
   "cell_type": "code",
   "execution_count": 7,
   "id": "31abf014",
   "metadata": {},
   "outputs": [],
   "source": [
    "loss_history1, w1 = grad_des(data1[:,:-1], data1[:,-1], learning_rate, epochs)\n",
    "loss_history2, w2 = grad_des(data2[:,:-1], data2[:,-1], learning_rate, epochs)\n",
    "loss_history3, w3 = grad_des(data3[:,:-1], data3[:,-1], learning_rate, epochs)\n",
    "loss_history4, w4 = grad_des(data4[:,:-1], data4[:,-1], learning_rate, epochs)\n",
    "loss_history5, w5 = grad_des(data5[:,:-1], data5[:,-1], learning_rate, epochs)\n",
    "loss_history6, w6 = grad_des(data6[:,:-1], data6[:,-1], learning_rate, epochs)\n",
    "loss_history7, w7 = grad_des(data7[:,:-1], data7[:,-1], learning_rate, epochs)\n",
    "loss_history8, w8 = grad_des(data8[:,:-1], data8[:,-1], learning_rate, epochs)\n",
    "loss_history9, w9 = grad_des(data9[:,:-1], data9[:,-1], learning_rate, epochs)\n",
    "loss_history10, w10 = grad_des(data10[:,:-1], data10[:,-1], learning_rate, epochs)"
   ]
  },
  {
   "cell_type": "code",
   "execution_count": 8,
   "id": "fb94fa3b",
   "metadata": {},
   "outputs": [
    {
     "data": {
      "image/png": "[encoded data removed]",
      "text/plain": [
       "<Figure size 432x288 with 1 Axes>"
      ]
     },
     "metadata": {},
     "output_type": "display_data"
    }
   ],
   "source": [
    "plt.figure(facecolor='grey')\n",
    "ax = plt.axes()\n",
    "ax.set_facecolor(\"skyblue\")\n",
    "plt.plot(np.arange(100), loss_history3[:100])\n",
    "plt.xlabel('Epochs') \n",
    "plt.ylabel('Loss') \n",
    "plt.show()\n",
    "\n",
    "## Loss dosent improve much after 100-150 epochs therefore it is a candidate for early stopping."
   ]
  },
  {
   "cell_type": "code",
   "execution_count": 9,
   "id": "0b70204a",
   "metadata": {},
   "outputs": [],
   "source": [
    "test = dataset_generator(100)"
   ]
  },
  {
   "cell_type": "code",
   "execution_count": 10,
   "id": "717fe946",
   "metadata": {},
   "outputs": [],
   "source": [
    "def bias(test):\n",
    "    l = len(test)\n",
    "    bias = 0\n",
    "    test = np.concatenate((np.ones((l,1)),test), axis=1)\n",
    "    \n",
    "    for i in range(l):\n",
    "        x = test[i,:-1]\n",
    "        y_true = test[i,-1]\n",
    "        y1 = x.dot(w1)\n",
    "        y2 = x.dot(w2)\n",
    "        y3 = x.dot(w3)\n",
    "        y4 = x.dot(w4)\n",
    "        y5 = x.dot(w5)\n",
    "        y6 = x.dot(w6)\n",
    "        y7 = x.dot(w7)\n",
    "        y8 = x.dot(w8)\n",
    "        y9 = x.dot(w9)\n",
    "        y10 = x.dot(w10)\n",
    "        \n",
    "        ym = (y1+y2+y3+y4+y5+y6+y7+y8+y9+y10)/10\n",
    "        temp = (y_true - ym)**2\n",
    "#         print(y_true, ym)\n",
    "        bias += temp\n",
    "    \n",
    "    bias/=l\n",
    "    return bias"
   ]
  },
  {
   "cell_type": "code",
   "execution_count": 11,
   "id": "e53cd79c",
   "metadata": {},
   "outputs": [
    {
     "name": "stdout",
     "output_type": "stream",
     "text": [
      "The bias for the given test set is 0.7891790431330135\n"
     ]
    }
   ],
   "source": [
    "print(f\"The bias for the given test set is {bias(test)}\")"
   ]
  },
  {
   "cell_type": "code",
   "execution_count": 12,
   "id": "f4664f9d",
   "metadata": {},
   "outputs": [],
   "source": [
    "def variance(test):\n",
    "    l = len(test)\n",
    "    var = 0\n",
    "    test = np.concatenate((np.ones((l,1)),test), axis=1)\n",
    "    \n",
    "    for i in range(l):\n",
    "        x = test[i,:-1]\n",
    "        y_true = test[i,-1]\n",
    "        y1 = x.dot(w1)\n",
    "        y2 = x.dot(w2)\n",
    "        y3 = x.dot(w3)\n",
    "        y4 = x.dot(w4)\n",
    "        y5 = x.dot(w5)\n",
    "        y6 = x.dot(w6)\n",
    "        y7 = x.dot(w7)\n",
    "        y8 = x.dot(w8)\n",
    "        y9 = x.dot(w9)\n",
    "        y10 = x.dot(w10)\n",
    "        \n",
    "        ym = (y1+y2+y3+y4+y5+y6+y7+y8+y9+y10)/10\n",
    "        \n",
    "        var += (((y1-ym)**2)+((y2-ym)**2)+((y3-ym)**2)+((y4-ym)**2)+((y5-ym)**2)+((y6-ym)**2)\n",
    "                            +((y7-ym)**2)+((y8-ym)**2)+((y9-ym)**2)+((y10-ym)**2))/10\n",
    "    \n",
    "    var/=l\n",
    "    return var\n",
    "    "
   ]
  },
  {
   "cell_type": "code",
   "execution_count": 13,
   "id": "7c9ca332",
   "metadata": {},
   "outputs": [
    {
     "name": "stdout",
     "output_type": "stream",
     "text": [
      "The variance for the given test set is 0.026031308720946153\n"
     ]
    }
   ],
   "source": [
    "print(f\"The variance for the given test set is {variance(test)}\")"
   ]
  }
 ],
 "metadata": {
  "kernelspec": {
   "display_name": "Python 3 (ipykernel)",
   "language": "python",
   "name": "python3"
  },
  "language_info": {
   "codemirror_mode": {
    "name": "ipython",
    "version": 3
   },
   "file_extension": ".py",
   "mimetype": "text/x-python",
   "name": "python",
   "nbconvert_exporter": "python",
   "pygments_lexer": "ipython3",
   "version": "3.9.0"
  }
 },
 "nbformat": 4,
 "nbformat_minor": 5
}
